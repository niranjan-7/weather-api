{
  "nbformat": 4,
  "nbformat_minor": 0,
  "metadata": {
    "colab": {
      "provenance": [],
      "authorship_tag": "ABX9TyPKS8kUYz5Rqh0Pf6lfNdKy",
      "include_colab_link": true
    },
    "kernelspec": {
      "name": "python3",
      "display_name": "Python 3"
    },
    "language_info": {
      "name": "python"
    }
  },
  "cells": [
    {
      "cell_type": "markdown",
      "metadata": {
        "id": "view-in-github",
        "colab_type": "text"
      },
      "source": [
        "<a href=\"https://colab.research.google.com/github/niranjan-7/weather-api/blob/main/weather_api_python.ipynb\" target=\"_parent\"><img src=\"https://colab.research.google.com/assets/colab-badge.svg\" alt=\"Open In Colab\"/></a>"
      ]
    },
    {
      "cell_type": "code",
      "source": [
        "import requests as rq\n",
        "import json"
      ],
      "metadata": {
        "id": "oVHOPVYTzXjG"
      },
      "execution_count": null,
      "outputs": []
    },
    {
      "cell_type": "code",
      "execution_count": null,
      "metadata": {
        "colab": {
          "base_uri": "https://localhost:8080/"
        },
        "id": "IW8mMY2Lu5mK",
        "outputId": "9284b29c-8218-4755-8933-f4badc7ef09e"
      },
      "outputs": [
        {
          "name": "stdout",
          "output_type": "stream",
          "text": [
            "enter the location of the cityErode\n"
          ]
        }
      ],
      "source": [
        "api_key=\"a29ab90e686bb8a49973d585f0abc2e4\"\n",
        "# location = \"London\"\n",
        "location=input(\"enter the location of the city\")"
      ]
    },
    {
      "cell_type": "code",
      "source": [
        "print(location)"
      ],
      "metadata": {
        "colab": {
          "base_uri": "https://localhost:8080/"
        },
        "id": "T10GvV08vNJe",
        "outputId": "2ed2dfe5-3d51-4cec-ff51-51ea218907c3"
      },
      "execution_count": null,
      "outputs": [
        {
          "output_type": "stream",
          "name": "stdout",
          "text": [
            "Erode\n"
          ]
        }
      ]
    },
    {
      "cell_type": "code",
      "source": [
        "link=\"http://api.openweathermap.org/data/2.5/weather?appid=\"+api_key+\"&q=\"+location\n",
        "print(link)\n"
      ],
      "metadata": {
        "colab": {
          "base_uri": "https://localhost:8080/"
        },
        "id": "wO7Jq8Glyv72",
        "outputId": "b867b5cf-cfe1-4406-9c93-39d591bcb9d9"
      },
      "execution_count": null,
      "outputs": [
        {
          "output_type": "stream",
          "name": "stdout",
          "text": [
            "http://api.openweathermap.org/data/2.5/weather?appid=a29ab90e686bb8a49973d585f0abc2e4&q=Erode\n"
          ]
        }
      ]
    },
    {
      "cell_type": "code",
      "source": [
        "complete_link=rq.get(link)\n",
        "data=complete_link.json()\n",
        "print(data)"
      ],
      "metadata": {
        "colab": {
          "base_uri": "https://localhost:8080/"
        },
        "id": "Spl1kHzYzcQ-",
        "outputId": "61ded7c9-87af-4a72-8f3e-89d44edc8ef0"
      },
      "execution_count": null,
      "outputs": [
        {
          "output_type": "stream",
          "name": "stdout",
          "text": [
            "{'coord': {'lon': 77.7333, 'lat': 11.35}, 'weather': [{'id': 800, 'main': 'Clear', 'description': 'clear sky', 'icon': '01n'}], 'base': 'stations', 'main': {'temp': 301.95, 'feels_like': 300.76, 'temp_min': 301.95, 'temp_max': 301.95, 'pressure': 1011, 'humidity': 28, 'sea_level': 1011, 'grnd_level': 992}, 'visibility': 10000, 'wind': {'speed': 4.26, 'deg': 129, 'gust': 8.36}, 'clouds': {'all': 9}, 'dt': 1645795870, 'sys': {'country': 'IN', 'sunrise': 1645751182, 'sunset': 1645793901}, 'timezone': 19800, 'id': 1272013, 'name': 'Erode', 'cod': 200}\n"
          ]
        }
      ]
    },
    {
      "cell_type": "code",
      "source": [
        "latitude=data['coord']['lat']\n",
        "longitude=data['coord']['lon']\n",
        "temperature=data['main'][\"temp\"]\n",
        "\n",
        "\n",
        "print(temperature,\"is the temperature at the latitiude\",latitude,\"and longitude\",longitude,\"in\",location)\n"
      ],
      "metadata": {
        "colab": {
          "base_uri": "https://localhost:8080/"
        },
        "id": "FBLnmW9t80fW",
        "outputId": "7351c727-e7a3-4f6e-eead-9eafb66c4903"
      },
      "execution_count": null,
      "outputs": [
        {
          "output_type": "stream",
          "name": "stdout",
          "text": [
            "301.95 is the temperature at the latitiude 11.35 and longitude 77.7333 in Erode\n"
          ]
        }
      ]
    }
  ]
}